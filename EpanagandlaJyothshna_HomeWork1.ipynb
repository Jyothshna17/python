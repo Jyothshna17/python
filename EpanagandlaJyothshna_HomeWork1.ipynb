{
  "cells": [
    {
      "cell_type": "markdown",
      "metadata": {
        "id": "7IINO_leJvqM"
      },
      "source": [
        "# Homework 1: Exploring the basics of Python\n",
        "\n",
        "In this homework, you will apply what we have learned about the basic object classes of Python. \n",
        "\n",
        "The assignment is split into two parts. \n",
        "\n",
        "- <font color='blue'><b>Part 1</b></font> should be completed by both <font color='blue'><b>undergraduates (UG) and graduates (G)</b></font>. \n",
        "\n",
        "- <font color='blue'><b>Part 2</b></font> should be completed by (but is not restricted to) <font color='blue'><b>graduates</b></font> "
      ]
    },
    {
      "cell_type": "markdown",
      "metadata": {
        "id": "qAHe9m36cv2z"
      },
      "source": [
        "## Part 1 (UG/G)"
      ]
    },
    {
      "cell_type": "markdown",
      "metadata": {
        "id": "1_SFyc1_bdr_"
      },
      "source": [
        "1. **Define a variable `sentence` and assign it the following value: `\"Wherever you go, there you are.\"`**"
      ]
    },
    {
      "cell_type": "code",
      "execution_count": 1,
      "metadata": {
        "id": "k9m_7o0sJoyC"
      },
      "outputs": [],
      "source": [
        "#Defining variable\n",
        "sentence=\"Wherever you go, there you are.\""
      ]
    },
    {
      "cell_type": "markdown",
      "metadata": {
        "id": "kc9RWABzcEyn"
      },
      "source": [
        "2. **Use 2 slicing espressions (via the `[]` notation) to isolate the word `there`**."
      ]
    },
    {
      "cell_type": "code",
      "execution_count": 2,
      "metadata": {
        "id": "Kc0aV24ZLNYV",
        "colab": {
          "base_uri": "https://localhost:8080/",
          "height": 36
        },
        "outputId": "3257b4c9-3222-4221-df50-15af63d607ce"
      },
      "outputs": [
        {
          "output_type": "execute_result",
          "data": {
            "text/plain": [
              "'there'"
            ],
            "application/vnd.google.colaboratory.intrinsic+json": {
              "type": "string"
            }
          },
          "metadata": {},
          "execution_count": 2
        }
      ],
      "source": [
        "#first slicing expression\n",
        "slice_exp1=sentence[17:22]\n",
        "slice_exp1"
      ]
    },
    {
      "cell_type": "code",
      "execution_count": 4,
      "metadata": {
        "id": "M_Xizv_XcqXc",
        "colab": {
          "base_uri": "https://localhost:8080/"
        },
        "outputId": "342fd843-2a12-4d81-dedd-45bb3dc5963c"
      },
      "outputs": [
        {
          "output_type": "stream",
          "name": "stdout",
          "text": [
            "there\n"
          ]
        }
      ],
      "source": [
        "#second slicing expression\n",
        "slice_exp2=slice(17,22)\n",
        "print(sentence[slice_exp2])"
      ]
    },
    {
      "cell_type": "markdown",
      "metadata": {
        "id": "T01ZVmi6d89n"
      },
      "source": [
        "3. **Using only the method `.replace()`, change `sentence` to say \"Wherever you go, you are there.\"**\n",
        "\n",
        "`str.replace(x, y)` works as follows:\n"
      ]
    },
    {
      "cell_type": "code",
      "execution_count": null,
      "metadata": {
        "id": "piIp907yhfrF",
        "outputId": "a0747a1f-2fa4-4063-a41d-61097088ce7a"
      },
      "outputs": [
        {
          "data": {
            "text/plain": [
              "'strings change'"
            ]
          },
          "execution_count": 4,
          "metadata": {},
          "output_type": "execute_result"
        }
      ],
      "source": [
        "\"string to change\".replace(\" to\", \"s\")"
      ]
    },
    {
      "cell_type": "code",
      "execution_count": 5,
      "metadata": {
        "id": "wP4Z1PVAe24J",
        "colab": {
          "base_uri": "https://localhost:8080/",
          "height": 36
        },
        "outputId": "178746dd-5b3c-4f5e-8cd5-2b50a577a0b8"
      },
      "outputs": [
        {
          "output_type": "execute_result",
          "data": {
            "text/plain": [
              "'Wherever you go, you are there.'"
            ],
            "application/vnd.google.colaboratory.intrinsic+json": {
              "type": "string"
            }
          },
          "metadata": {},
          "execution_count": 5
        }
      ],
      "source": [
        "#replacing \"there you are\" with \"you are there\"\n",
        "sentence.replace(\"there you are\",\"you are there\")"
      ]
    },
    {
      "cell_type": "markdown",
      "metadata": {
        "id": "iBhRBWqLHL1m"
      },
      "source": [
        "4. **Now use `.replace()` to remove punctuation (\",\" and \".\"). Save the result as `clean_sentence`.**"
      ]
    },
    {
      "cell_type": "code",
      "execution_count": 6,
      "metadata": {
        "id": "_nVKOcDrHfJl",
        "colab": {
          "base_uri": "https://localhost:8080/",
          "height": 36
        },
        "outputId": "ed8eabe1-5cbd-4c08-b6ab-223ca7cd1f25"
      },
      "outputs": [
        {
          "output_type": "execute_result",
          "data": {
            "text/plain": [
              "'Wherever you go there you are'"
            ],
            "application/vnd.google.colaboratory.intrinsic+json": {
              "type": "string"
            }
          },
          "metadata": {},
          "execution_count": 6
        }
      ],
      "source": [
        "#removing punctuation using replace command\n",
        "clean_sentence=sentence.replace(\".\",\"\")\n",
        "clean_sentence=clean_sentence.replace(\"go,\",\"go\")\n",
        "clean_sentence"
      ]
    },
    {
      "cell_type": "markdown",
      "metadata": {
        "id": "Bpces0Y_dPdz"
      },
      "source": [
        "5. **Split `clean_sentence` into a list of words. Save the result as `split_sentence` and print.**"
      ]
    },
    {
      "cell_type": "code",
      "execution_count": 7,
      "metadata": {
        "id": "t1WaoEsadgKv",
        "colab": {
          "base_uri": "https://localhost:8080/"
        },
        "outputId": "987495ce-a69a-448f-c356-1151725c2fae"
      },
      "outputs": [
        {
          "output_type": "execute_result",
          "data": {
            "text/plain": [
              "['Wherever', 'you', 'go', 'there', 'you', 'are']"
            ]
          },
          "metadata": {},
          "execution_count": 7
        }
      ],
      "source": [
        "# Splitting string\n",
        "clean_sentence=clean_sentence.split()\n",
        "clean_sentence"
      ]
    },
    {
      "cell_type": "markdown",
      "metadata": {
        "id": "X4Yqp_qrGE52"
      },
      "source": [
        "5. **Write a loop that stores each unique word (key) and each length of the word (value) from `clean_sentence` as a dictionary `length_dictionary`.** \n",
        "- Don't forget to start with an empty dictionary\n",
        "- You can get each unique word from a list by using `set()`, as follows:"
      ]
    },
    {
      "cell_type": "code",
      "execution_count": 9,
      "metadata": {
        "id": "kXzozaMkGCqi",
        "colab": {
          "base_uri": "https://localhost:8080/"
        },
        "outputId": "e2a1c431-e564-4b37-c37e-7d4632b3a839"
      },
      "outputs": [
        {
          "output_type": "stream",
          "name": "stdout",
          "text": [
            "{'b', 'c', 'a'}\n"
          ]
        }
      ],
      "source": [
        "sample = ['a', 'b', 'c', 'a', 'a', 'c']\n",
        "unique_from_list = set(sample)\n",
        "print(unique_from_list)"
      ]
    },
    {
      "cell_type": "markdown",
      "metadata": {
        "id": "hQ-mFlvdJDX0"
      },
      "source": [
        "... then you can loop over the set as if it were a list:\n",
        "\n",
        "`for word in unique_from_list:`..."
      ]
    },
    {
      "cell_type": "code",
      "execution_count": 16,
      "metadata": {
        "id": "XSFLASME_sth"
      },
      "outputs": [],
      "source": [
        "#creating dictionary\n",
        "length_dictionary={}"
      ]
    },
    {
      "cell_type": "code",
      "execution_count": 17,
      "metadata": {
        "colab": {
          "base_uri": "https://localhost:8080/"
        },
        "id": "wa2lZdQv_sth",
        "outputId": "c06c351d-8303-4181-daeb-c9a54e796222"
      },
      "outputs": [
        {
          "output_type": "stream",
          "name": "stdout",
          "text": [
            "go\n",
            "you\n",
            "are\n",
            "Wherever\n",
            "there\n"
          ]
        }
      ],
      "source": [
        "for word in set(clean_sentence):\n",
        "    print(word)"
      ]
    },
    {
      "cell_type": "code",
      "execution_count": 18,
      "metadata": {
        "colab": {
          "base_uri": "https://localhost:8080/"
        },
        "id": "HTjmOg-O_sti",
        "outputId": "6aaba484-fc54-4e29-9def-e9798d028684"
      },
      "outputs": [
        {
          "output_type": "execute_result",
          "data": {
            "text/plain": [
              "{'go': 2, 'you': 3, 'are': 3, 'Wherever': 8, 'there': 5}"
            ]
          },
          "metadata": {},
          "execution_count": 18
        }
      ],
      "source": [
        "for word in set(clean_sentence):\n",
        "    length_dictionary[word]=len(word)\n",
        "length_dictionary"
      ]
    },
    {
      "cell_type": "code",
      "execution_count": 19,
      "metadata": {
        "colab": {
          "base_uri": "https://localhost:8080/"
        },
        "id": "xj3Xg5-6_sti",
        "outputId": "718bac82-1e07-4246-c15e-fe0ba27ead4e"
      },
      "outputs": [
        {
          "output_type": "stream",
          "name": "stdout",
          "text": [
            "b\n",
            "c\n",
            "a\n"
          ]
        }
      ],
      "source": [
        "for word in unique_from_list:\n",
        "    print(word)"
      ]
    },
    {
      "cell_type": "markdown",
      "metadata": {
        "id": "rEwXlsjBKBOW"
      },
      "source": [
        "6. **Now write a loop that prints each word in `length_dictionary` if it is 4 or more characters in length**"
      ]
    },
    {
      "cell_type": "code",
      "execution_count": 20,
      "metadata": {
        "id": "lV3X3Z4YKdp_",
        "colab": {
          "base_uri": "https://localhost:8080/"
        },
        "outputId": "effcb03a-b838-4b8c-c014-32b5af1b1492"
      },
      "outputs": [
        {
          "output_type": "stream",
          "name": "stdout",
          "text": [
            "Wherever\n",
            "there\n"
          ]
        }
      ],
      "source": [
        "for l,w in length_dictionary.items():\n",
        "    if w>=4:\n",
        "        print(l)"
      ]
    },
    {
      "cell_type": "markdown",
      "metadata": {
        "id": "j4jbYuJDLFLH"
      },
      "source": [
        "## Part 2 (G)\n",
        "\n",
        "1. **Define a variable `lyrics` using the following song lyrics.** "
      ]
    },
    {
      "cell_type": "code",
      "execution_count": 21,
      "metadata": {
        "id": "2UDqSFIvL94H"
      },
      "outputs": [],
      "source": [
        "lyrics =  \"White on white translucent black capes Back on the rack Bela Lugosi's dead The bats have left the bell tower The victims have been bled Red velvet lines the black box Bela Lugosi's dead Bela Lugosi's dead Undead undead undead Undead undead undead The virginal brides file past his tomb Strewn with time's dead flowers Bereft in deathly bloom Alone in a darkened room The count Bela Lugosi's dead Bela Lugosi's dead Bela Lugosi's dead Undead undead undead Undead undead undead Undead Oh Bela Bela's undead Oh Bela Bela's undead Bela's undead Oh Bela Bela's undead Oh Bela Undead\""
      ]
    },
    {
      "cell_type": "markdown",
      "metadata": {
        "id": "gIFhxiV9NmS4"
      },
      "source": [
        "2. **Write a loop that counts how many times each word occurs and stores it in a dictionary `word_count`. Print the result.** \n",
        "\n",
        "Split the string into a list.\n",
        "\n",
        "Open an empty dictionary.\n",
        "\n",
        "The keys should be words, and the values should be frequencies. \n",
        "\n",
        "Don't worry about case.\n",
        "\n",
        "Remember that you can use `+=` to both add and replace previously defined terms:\n",
        "\n",
        "- `word_count[key]` = 8\n",
        "- `word_count[key]` += 1 --> 9 \n",
        "\n",
        "(you can add one to the value of a key each time you see that key)\n",
        "\n",
        "You can only add to keys that you have seen before! **You must use a condition to check if the word you are seeing is in your dictionary or not!**\n",
        "\n",
        "```{python}\n",
        "open an empty dictionary\n",
        "if a word is in your dictionary keys\n",
        "  add one to the count\n",
        "otherwise\n",
        "  define a new key with a value of one\n",
        "```"
      ]
    },
    {
      "cell_type": "code",
      "execution_count": 22,
      "metadata": {
        "id": "gypCmEKrN9li",
        "colab": {
          "base_uri": "https://localhost:8080/"
        },
        "outputId": "34f3ca4c-c2b2-4747-de1e-010a69b5dd54"
      },
      "outputs": [
        {
          "output_type": "execute_result",
          "data": {
            "text/plain": [
              "['White',\n",
              " 'on',\n",
              " 'white',\n",
              " 'translucent',\n",
              " 'black',\n",
              " 'capes',\n",
              " 'Back',\n",
              " 'on',\n",
              " 'the',\n",
              " 'rack',\n",
              " 'Bela',\n",
              " \"Lugosi's\",\n",
              " 'dead',\n",
              " 'The',\n",
              " 'bats',\n",
              " 'have',\n",
              " 'left',\n",
              " 'the',\n",
              " 'bell',\n",
              " 'tower',\n",
              " 'The',\n",
              " 'victims',\n",
              " 'have',\n",
              " 'been',\n",
              " 'bled',\n",
              " 'Red',\n",
              " 'velvet',\n",
              " 'lines',\n",
              " 'the',\n",
              " 'black',\n",
              " 'box',\n",
              " 'Bela',\n",
              " \"Lugosi's\",\n",
              " 'dead',\n",
              " 'Bela',\n",
              " \"Lugosi's\",\n",
              " 'dead',\n",
              " 'Undead',\n",
              " 'undead',\n",
              " 'undead',\n",
              " 'Undead',\n",
              " 'undead',\n",
              " 'undead',\n",
              " 'The',\n",
              " 'virginal',\n",
              " 'brides',\n",
              " 'file',\n",
              " 'past',\n",
              " 'his',\n",
              " 'tomb',\n",
              " 'Strewn',\n",
              " 'with',\n",
              " \"time's\",\n",
              " 'dead',\n",
              " 'flowers',\n",
              " 'Bereft',\n",
              " 'in',\n",
              " 'deathly',\n",
              " 'bloom',\n",
              " 'Alone',\n",
              " 'in',\n",
              " 'a',\n",
              " 'darkened',\n",
              " 'room',\n",
              " 'The',\n",
              " 'count',\n",
              " 'Bela',\n",
              " \"Lugosi's\",\n",
              " 'dead',\n",
              " 'Bela',\n",
              " \"Lugosi's\",\n",
              " 'dead',\n",
              " 'Bela',\n",
              " \"Lugosi's\",\n",
              " 'dead',\n",
              " 'Undead',\n",
              " 'undead',\n",
              " 'undead',\n",
              " 'Undead',\n",
              " 'undead',\n",
              " 'undead',\n",
              " 'Undead',\n",
              " 'Oh',\n",
              " 'Bela',\n",
              " \"Bela's\",\n",
              " 'undead',\n",
              " 'Oh',\n",
              " 'Bela',\n",
              " \"Bela's\",\n",
              " 'undead',\n",
              " \"Bela's\",\n",
              " 'undead',\n",
              " 'Oh',\n",
              " 'Bela',\n",
              " \"Bela's\",\n",
              " 'undead',\n",
              " 'Oh',\n",
              " 'Bela',\n",
              " 'Undead']"
            ]
          },
          "metadata": {},
          "execution_count": 22
        }
      ],
      "source": [
        "# Spliting string\n",
        "lyrics.split()"
      ]
    },
    {
      "cell_type": "code",
      "execution_count": 23,
      "metadata": {
        "id": "bAm0WPQK_stk"
      },
      "outputs": [],
      "source": [
        "string=lyrics.lower()\n",
        "string=string.split(\" \")"
      ]
    },
    {
      "cell_type": "code",
      "execution_count": 25,
      "metadata": {
        "id": "XTN23K-oVmne",
        "colab": {
          "base_uri": "https://localhost:8080/"
        },
        "outputId": "fd75cefb-c9eb-4077-b255-151f49b007f5"
      },
      "outputs": [
        {
          "output_type": "execute_result",
          "data": {
            "text/plain": [
              "{'white': 2,\n",
              " 'on': 2,\n",
              " 'translucent': 1,\n",
              " 'black': 2,\n",
              " 'capes': 1,\n",
              " 'back': 1,\n",
              " 'the': 7,\n",
              " 'rack': 1,\n",
              " 'bela': 10,\n",
              " \"lugosi's\": 6,\n",
              " 'dead': 7,\n",
              " 'bats': 1,\n",
              " 'have': 2,\n",
              " 'left': 1,\n",
              " 'bell': 1,\n",
              " 'tower': 1,\n",
              " 'victims': 1,\n",
              " 'been': 1,\n",
              " 'bled': 1,\n",
              " 'red': 1,\n",
              " 'velvet': 1,\n",
              " 'lines': 1,\n",
              " 'box': 1,\n",
              " 'undead': 18,\n",
              " 'virginal': 1,\n",
              " 'brides': 1,\n",
              " 'file': 1,\n",
              " 'past': 1,\n",
              " 'his': 1,\n",
              " 'tomb': 1,\n",
              " 'strewn': 1,\n",
              " 'with': 1,\n",
              " \"time's\": 1,\n",
              " 'flowers': 1,\n",
              " 'bereft': 1,\n",
              " 'in': 2,\n",
              " 'deathly': 1,\n",
              " 'bloom': 1,\n",
              " 'alone': 1,\n",
              " 'a': 1,\n",
              " 'darkened': 1,\n",
              " 'room': 1,\n",
              " 'count': 1,\n",
              " 'oh': 4,\n",
              " \"bela's\": 4}"
            ]
          },
          "metadata": {},
          "execution_count": 25
        }
      ],
      "source": [
        "#frequency dictionary\n",
        "word_freq_dict={}\n",
        "for i in string:\n",
        "    if i in word_freq_dict:\n",
        "        word_freq_dict[i]+=1    \n",
        "    else:\n",
        "        word_freq_dict[i]=1\n",
        "word_freq_dict"
      ]
    },
    {
      "cell_type": "markdown",
      "metadata": {
        "id": "Pbyikz6QXezl"
      },
      "source": [
        "Try the string method `.lower()`."
      ]
    },
    {
      "cell_type": "code",
      "execution_count": 26,
      "metadata": {
        "colab": {
          "base_uri": "https://localhost:8080/",
          "height": 36
        },
        "id": "dGeB7Ds-XlmP",
        "outputId": "ce3eadd3-ae80-401e-aa39-591d8249b525"
      },
      "outputs": [
        {
          "output_type": "execute_result",
          "data": {
            "text/plain": [
              "'cat'"
            ],
            "application/vnd.google.colaboratory.intrinsic+json": {
              "type": "string"
            }
          },
          "metadata": {},
          "execution_count": 26
        }
      ],
      "source": [
        "\"CAT\".lower()"
      ]
    },
    {
      "cell_type": "code",
      "execution_count": 27,
      "metadata": {
        "colab": {
          "base_uri": "https://localhost:8080/",
          "height": 88
        },
        "id": "HmbVJrxg_stl",
        "outputId": "5d4bfc23-0ac1-4fad-8cab-18237a8d7a7b"
      },
      "outputs": [
        {
          "output_type": "execute_result",
          "data": {
            "text/plain": [
              "\"white on white translucent black capes back on the rack bela lugosi's dead the bats have left the bell tower the victims have been bled red velvet lines the black box bela lugosi's dead bela lugosi's dead undead undead undead undead undead undead the virginal brides file past his tomb strewn with time's dead flowers bereft in deathly bloom alone in a darkened room the count bela lugosi's dead bela lugosi's dead bela lugosi's dead undead undead undead undead undead undead undead oh bela bela's undead oh bela bela's undead bela's undead oh bela bela's undead oh bela undead\""
            ],
            "application/vnd.google.colaboratory.intrinsic+json": {
              "type": "string"
            }
          },
          "metadata": {},
          "execution_count": 27
        }
      ],
      "source": [
        "lyrics.lower()"
      ]
    },
    {
      "cell_type": "markdown",
      "metadata": {
        "id": "-pXt-ZyMXp1w"
      },
      "source": [
        "Can you improve your counts from above?"
      ]
    },
    {
      "cell_type": "code",
      "execution_count": 28,
      "metadata": {
        "colab": {
          "base_uri": "https://localhost:8080/"
        },
        "id": "iGbxu4OW_stm",
        "outputId": "15142c19-2a1c-456c-cc3f-e6d49131a2ae"
      },
      "outputs": [
        {
          "output_type": "stream",
          "name": "stdout",
          "text": [
            "{'white': 2, 'on': 2, 'translucent': 1, 'black': 2, 'capes': 1, 'back': 1, 'the': 7, 'rack': 1, 'bela': 10, \"lugosi's\": 6, 'dead': 7, 'bats': 1, 'have': 2, 'left': 1, 'bell': 1, 'tower': 1, 'victims': 1, 'been': 1, 'bled': 1, 'red': 1, 'velvet': 1, 'lines': 1, 'box': 1, 'undead': 18, 'virginal': 1, 'brides': 1, 'file': 1, 'past': 1, 'his': 1, 'tomb': 1, 'strewn': 1, 'with': 1, \"time's\": 1, 'flowers': 1, 'bereft': 1, 'in': 2, 'deathly': 1, 'bloom': 1, 'alone': 1, 'a': 1, 'darkened': 1, 'room': 1, 'count': 1, 'oh': 4, \"bela's\": 4}\n"
          ]
        }
      ],
      "source": [
        "#improving counts\n",
        "def wordFrequency(string):\n",
        "    string=string.lower()\n",
        "    string=string.split(\" \")\n",
        "    word_frequency={}\n",
        "    for i in string:\n",
        "        if i in word_frequency:\n",
        "            word_frequency[i]+=1    \n",
        "        else:\n",
        "            word_frequency[i]=1\n",
        "    return(word_frequency)\n",
        "\n",
        "print(wordFrequency(lyrics))"
      ]
    }
  ],
  "metadata": {
    "colab": {
      "collapsed_sections": [],
      "provenance": []
    },
    "kernelspec": {
      "display_name": "Python 3 (ipykernel)",
      "language": "python",
      "name": "python3"
    },
    "language_info": {
      "codemirror_mode": {
        "name": "ipython",
        "version": 3
      },
      "file_extension": ".py",
      "mimetype": "text/x-python",
      "name": "python",
      "nbconvert_exporter": "python",
      "pygments_lexer": "ipython3",
      "version": "3.9.12"
    }
  },
  "nbformat": 4,
  "nbformat_minor": 0
}
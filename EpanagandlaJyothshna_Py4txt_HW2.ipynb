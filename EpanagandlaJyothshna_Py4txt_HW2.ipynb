{
  "nbformat": 4,
  "nbformat_minor": 0,
  "metadata": {
    "colab": {
      "provenance": []
    },
    "kernelspec": {
      "name": "python3",
      "display_name": "Python 3"
    },
    "language_info": {
      "name": "python"
    },
    "accelerator": "TPU",
    "gpuClass": "standard"
  },
  "cells": [
    {
      "cell_type": "code",
      "source": [
        "import re\n",
        "import requests\n",
        "import datetime\n",
        "from datetime import timedelta"
      ],
      "metadata": {
        "id": "hKw9BE9AiOUT"
      },
      "execution_count": 118,
      "outputs": []
    },
    {
      "cell_type": "code",
      "source": [
        "#Audio file data\n",
        "#Here we extracted audio read me files of five different textbooks belonging to three different categories\n",
        "audio_txt_lst=[\"https://www.gutenberg.org/files/26214/26214-readme.txt\",\n",
        "\"https://www.gutenberg.org/files/26267/26267-readme.txt\",\n",
        "\"https://www.gutenberg.org/files/26245/26245-readme.txt\",\n",
        "\"https://www.gutenberg.org/files/23706/23706-readme.txt\",\n",
        "\"https://www.gutenberg.org/files/22446/22446-readme.txt\",\n",
        "]"
      ],
      "metadata": {
        "id": "IgNl3n8bDCEv"
      },
      "execution_count": 119,
      "outputs": []
    },
    {
      "cell_type": "code",
      "source": [
        "Audio_data_dict={}\n",
        "Audio_data_dict.clear()\n",
        "Audio_data_dict"
      ],
      "metadata": {
        "id": "iqCJCJY-2DRv",
        "colab": {
          "base_uri": "https://localhost:8080/"
        },
        "outputId": "e694dd53-1913-4eed-b423-20d11f197e1e"
      },
      "execution_count": 120,
      "outputs": [
        {
          "output_type": "execute_result",
          "data": {
            "text/plain": [
              "{}"
            ]
          },
          "metadata": {},
          "execution_count": 120
        }
      ]
    },
    {
      "cell_type": "code",
      "source": [
        "#Here we are trying to get time from audio files in minutes\n",
        "for url in audio_txt_lst:\n",
        "  page = requests.get(url)\n",
        "  Text_data=re.sub(r'[!@#$]', '',page.text)\n",
        "  text_data=re.sub(r'\\r\\n', ' ', Text_data)\n",
        "  text_data = re.sub(' +', ' ', text_data)\n",
        "  Title_Start=text_data.find(\"Title\")\n",
        "  if \"Author:\" in re.sub(r'[..]','',text_data[Title_Start:Title_Start+50])[7:]:\n",
        "    Title_End= text_data.find(\"Author:\")\n",
        "\n",
        "    Title_Name=re.sub(r'[..]','',text_data[Title_Start:Title_End])[7:]\n",
        "    Title_Name=Title_Name.lstrip(' ')\n",
        "    Title_Name=Title_Name.rstrip(' ')\n",
        "  else:\n",
        "    Title_End= text_data.find(\"Subtitle:\")\n",
        "    Title_Name=re.sub(r'[..]','',text_data[Title_Start:Title_End])[7:]\n",
        "    Title_Name=Title_Name.lstrip(' ')\n",
        "    Title_Name=Title_Name.rstrip(' ')\n",
        "  Time_start=text_data.find('Contents')\n",
        "  Time_stop=text_data.find('Librivox Audio Recording Public Domain Certification')\n",
        "  text_data[Time_start:Time_stop]\n",
        "  matches = re.findall(r'\\b\\d{2}\\:\\d{2}\\:\\d{2}\\b',text_data[Time_start:Time_stop] )\n",
        "  timeList = matches\n",
        "  sum_time = datetime.timedelta()\n",
        "  for i in timeList:\n",
        "      (h, m, s) = i.split(':')\n",
        "      date_add = datetime.timedelta(hours=int(h), minutes=int(m), seconds=int(s))\n",
        "      sum_time += date_add\n",
        "  Time_Stamp = str(sum_time)\n",
        "  delta = timedelta(hours=int(Time_Stamp.split(':')[0]), minutes=int(Time_Stamp.split(':')[1]), seconds=int(Time_Stamp.split(':')[2]))\n",
        "  minutes = int(delta.total_seconds()/60)\n",
        "  K=Title_Name\n",
        "  if K.find(\":\") != -1:\n",
        "    K=K.split(\":\",1)[0]\n",
        "  elif K.find(\";\") != -1:\n",
        "    K=K.split(\";\",1)[0]\n",
        "  \n",
        "  Title_Name = K\n",
        "  Audio_data_dict[Title_Name.lower()]=minutes\n",
        "  print(url,Title_Name)"
      ],
      "metadata": {
        "id": "PMTGE69plpVu",
        "colab": {
          "base_uri": "https://localhost:8080/"
        },
        "outputId": "bce90c32-338f-4cf8-e7a1-a913a90eec26"
      },
      "execution_count": 153,
      "outputs": [
        {
          "output_type": "stream",
          "name": "stdout",
          "text": [
            "https://www.gutenberg.org/files/26214/26214-readme.txt The Jesuit Missions\n",
            "https://www.gutenberg.org/files/26267/26267-readme.txt The Romance of Rubber\n",
            "https://www.gutenberg.org/files/26245/26245-readme.txt The History of the Peloponnesian War\n",
            "https://www.gutenberg.org/files/23706/23706-readme.txt Greenmantle\n",
            "https://www.gutenberg.org/files/22446/22446-readme.txt Alexander the Great\n"
          ]
        }
      ]
    },
    {
      "cell_type": "code",
      "source": [
        "Audio_data_dict"
      ],
      "metadata": {
        "id": "GPJJiNLBlpGM",
        "colab": {
          "base_uri": "https://localhost:8080/"
        },
        "outputId": "3e2e970a-2f55-47e3-de7f-9992269ba6c8"
      },
      "execution_count": 122,
      "outputs": [
        {
          "output_type": "execute_result",
          "data": {
            "text/plain": [
              "{'the jesuit missions': 189,\n",
              " 'the romance of rubber': 42,\n",
              " 'the history of the peloponnesian war': 1257,\n",
              " 'greenmantle': 549,\n",
              " 'alexander the great': 357}"
            ]
          },
          "metadata": {},
          "execution_count": 122
        }
      ]
    },
    {
      "cell_type": "markdown",
      "source": [
        "# wrapping content functions"
      ],
      "metadata": {
        "id": "X1OEwfj82UMn"
      }
    },
    {
      "cell_type": "markdown",
      "source": [
        "1a. **Data collection and preprocessing**\n"
      ],
      "metadata": {
        "id": "c0YN6_w37jaV"
      }
    },
    {
      "cell_type": "code",
      "source": [
        "def end_of_sentence_marker(character):\n",
        "    # insert your code here\n",
        "    return character in \"!.?\""
      ],
      "metadata": {
        "id": "7HKrUnAdn17C"
      },
      "execution_count": 123,
      "outputs": []
    },
    {
      "cell_type": "code",
      "source": [
        "def end_of_sentence_marker(character):\n",
        "    # insert your code here\n",
        "    if re.match(r\"[\\!\\.\\?]\", character):\n",
        "      return True\n",
        "    else:\n",
        "      return False"
      ],
      "metadata": {
        "id": "FIh3QJIzn13e"
      },
      "execution_count": 124,
      "outputs": []
    },
    {
      "cell_type": "code",
      "source": [
        "def split_sentences(text):\n",
        "    \"Split a text string into a list of sentences.\"\n",
        "    sentences = []\n",
        "    start = 0\n",
        "    for end, character in enumerate(text):\n",
        "        if end_of_sentence_marker(character):\n",
        "            sentence = text[start: end + 1]\n",
        "            sentences.append(sentence)\n",
        "            start = end + 2\n",
        "    return sentences"
      ],
      "metadata": {
        "id": "kAl0X-OWpmAB"
      },
      "execution_count": 125,
      "outputs": []
    },
    {
      "cell_type": "code",
      "source": [
        "import string\n",
        "print(string.punctuation)\n"
      ],
      "metadata": {
        "id": "WJ_6xuOrpl8X",
        "colab": {
          "base_uri": "https://localhost:8080/"
        },
        "outputId": "8982cd16-9ab6-4b88-ec22-61551382ab3a"
      },
      "execution_count": 126,
      "outputs": [
        {
          "output_type": "stream",
          "name": "stdout",
          "text": [
            "!\"#$%&'()*+,-./:;<=>?@[\\]^_`{|}~\n"
          ]
        }
      ]
    },
    {
      "cell_type": "code",
      "source": [
        "def clean_text(input_text):\n",
        "  output_string = \"\"\n",
        "  for char in input_text:\n",
        "    if char not in string.punctuation:\n",
        "      output_string += char\n",
        "  return output_string.lower()"
      ],
      "metadata": {
        "id": "p-AK2HDhpl5i"
      },
      "execution_count": 127,
      "outputs": []
    },
    {
      "cell_type": "code",
      "source": [
        "import nltk\n",
        "nltk.download('punkt')"
      ],
      "metadata": {
        "id": "TVXuiTmFpl2c",
        "colab": {
          "base_uri": "https://localhost:8080/"
        },
        "outputId": "7848d052-1c38-4b2a-a630-12b741c16c21"
      },
      "execution_count": 128,
      "outputs": [
        {
          "output_type": "stream",
          "name": "stderr",
          "text": [
            "[nltk_data] Downloading package punkt to /root/nltk_data...\n",
            "[nltk_data]   Package punkt is already up-to-date!\n"
          ]
        },
        {
          "output_type": "execute_result",
          "data": {
            "text/plain": [
              "True"
            ]
          },
          "metadata": {},
          "execution_count": 128
        }
      ]
    },
    {
      "cell_type": "code",
      "source": [
        "def word_tokenizer(cleaned_sentence):\n",
        "    word_list = re.split(r\" \", cleaned_sentence)\n",
        "    return word_list\n",
        "def tokenize(text):\n",
        "    \"\"\"Transform TEXT into a list of sentences. Lowercase \n",
        "    each sentence and remove all punctuation. Finally split each\n",
        "    sentence into a list of words.\"\"\"\n",
        "    clean_sentences = []\n",
        "    sentences = split_sentences(text)\n",
        "    for sent in sentences:\n",
        "        clean_sent = clean_text(sent)\n",
        "        word_list = word_tokenizer(clean_sent)\n",
        "        clean_sentences += [word_list]\n",
        "    return clean_sentences\n",
        "# these tests should return True if your code is correct\n",
        "#print(tokenize(Content))\n",
        "\n"
      ],
      "metadata": {
        "id": "ON5tDtLhplzT"
      },
      "execution_count": 129,
      "outputs": []
    },
    {
      "cell_type": "markdown",
      "source": [
        "# Text data\n",
        "Here we are getting text read me files and changing it to other format"
      ],
      "metadata": {
        "id": "w29Lq9nF2b5M"
      }
    },
    {
      "cell_type": "markdown",
      "source": [
        "1b. **Store the associated times in minutes from the audiobook in a dictionary**"
      ],
      "metadata": {
        "id": "xSi-rauZ7t0k"
      }
    },
    {
      "cell_type": "code",
      "source": [
        "\n",
        "txt_lst=[\n",
        "\"https://www.gutenberg.org/cache/epub/4388/pg4388.txt\",\n",
        "\"https://www.gutenberg.org/cache/epub/4759/pg4759.txt\",\n",
        "\"https://www.gutenberg.org/cache/epub/559/pg559.txt\",\n",
        "\"https://www.gutenberg.org/cache/epub/7142/pg7142.txt\",\n",
        "\"https://www.gutenberg.org/cache/epub/30624/pg30624.txt\"\n",
        "]"
      ],
      "metadata": {
        "id": "VPKVDAc4ClEg"
      },
      "execution_count": 130,
      "outputs": []
    },
    {
      "cell_type": "code",
      "source": [
        "Text_data_dict={}\n",
        "Text_data_dict.clear()\n",
        "Text_data_dict"
      ],
      "metadata": {
        "id": "GJ2cCPjGpltF",
        "colab": {
          "base_uri": "https://localhost:8080/"
        },
        "outputId": "c6add3aa-5573-4606-fdfa-323f85d91a2a"
      },
      "execution_count": 131,
      "outputs": [
        {
          "output_type": "execute_result",
          "data": {
            "text/plain": [
              "{}"
            ]
          },
          "metadata": {},
          "execution_count": 131
        }
      ]
    },
    {
      "cell_type": "code",
      "source": [
        "for url in txt_lst:\n",
        "  page = requests.get(url)\n",
        "  Text_data=re.sub(r'[!@#$]', '',page.text)\n",
        "  text_data=re.sub(r'\\r\\n', ' ', Text_data)\n",
        "  text_data = re.sub(' +', ' ', text_data)\n",
        "  t=text_data[:150].split(\", by\")[0]\n",
        "  t1=t.split(\"of\")[1:]\n",
        "  t2='of'.join(t1)\n",
        "  Title_Name=t2.lstrip(\" \")\n",
        "  Title_Name=Title_Name.rstrip(\" \")\n",
        "  if len(Title_Name) == 0:\n",
        "    t=text_data[:150].split(\",\")[1]\n",
        "    t2=t\n",
        "    Title_Name=t2.lstrip(\" \")\n",
        "    Title_Name=Title_Name.rstrip(\" \")\n",
        "  elif t.find(\"Project Gutenberg's\")== 1:\n",
        "    t=text_data[:150].split(\"Project Gutenberg's\")[1]\n",
        "    t2=t.split(\",\")[0]\n",
        "    Title_Name=t2.lstrip(\" \")\n",
        "    Title_Name=Title_Name.rstrip(\" \")\n",
        "  \n",
        "  print(Title_Name)\n",
        "\n",
        "\n",
        "  Content=text_data[text_data.find(\"CHAPTER \") :text_data.find(\"End of Project Gutenberg's\")]\n",
        "  if len(Content) == 0:\n",
        "    Content=text_data[text_data.find(\"CHAPTER \"):text_data.find(\"END OF THE PROJECT GUTENBERG EBOOK\")]\n",
        "\n",
        "  \n",
        "  Text_data_dict[Title_Name.lower().rstrip()]=[tokenize(Content.lower())]   "
      ],
      "metadata": {
        "colab": {
          "base_uri": "https://localhost:8080/"
        },
        "id": "wYPzYz1eFBD5",
        "outputId": "68bf1890-ecf7-4ecb-e1e2-a875dd01a0d7"
      },
      "execution_count": 154,
      "outputs": [
        {
          "output_type": "stream",
          "name": "stdout",
          "text": [
            "The Jesuit Missions\n",
            "The Romance of Rubber\n",
            "Greenmantle\n",
            "The History of the Peloponnesian War\n",
            "Alexander the Great\n"
          ]
        }
      ]
    },
    {
      "cell_type": "code",
      "source": [
        "for k, v in Text_data_dict.items():\n",
        "    print(k,len(v[0]))"
      ],
      "metadata": {
        "id": "z3Klw0TN3F6u",
        "colab": {
          "base_uri": "https://localhost:8080/"
        },
        "outputId": "e4f8b807-d862-4a6e-a87e-718d6243bc48"
      },
      "execution_count": 133,
      "outputs": [
        {
          "output_type": "stream",
          "name": "stdout",
          "text": [
            "the jesuit missions 1204\n",
            "the romance of rubber 577\n",
            "greenmantle 7032\n",
            "the history of the peloponnesian war 5370\n",
            "alexander the great 2950\n"
          ]
        }
      ]
    },
    {
      "cell_type": "code",
      "source": [
        "Audio_data_dict"
      ],
      "metadata": {
        "id": "McFUhvMg3UHo",
        "colab": {
          "base_uri": "https://localhost:8080/"
        },
        "outputId": "6de04960-a1b2-4659-e844-652f92c9045c"
      },
      "execution_count": 134,
      "outputs": [
        {
          "output_type": "execute_result",
          "data": {
            "text/plain": [
              "{'the jesuit missions': 189,\n",
              " 'the romance of rubber': 42,\n",
              " 'the history of the peloponnesian war': 1257,\n",
              " 'greenmantle': 549,\n",
              " 'alexander the great': 357}"
            ]
          },
          "metadata": {},
          "execution_count": 134
        }
      ]
    },
    {
      "cell_type": "code",
      "source": [
        "# Here we are writing a function to obtain the count of words so through below function we can get number of words\n",
        "def recursive_len(item):\n",
        "    if type(item) == list:\n",
        "        return sum(recursive_len(subitem) for subitem in item)\n",
        "    else:\n",
        "        return 1"
      ],
      "metadata": {
        "id": "VcbpNSMluQ-2"
      },
      "execution_count": 155,
      "outputs": []
    },
    {
      "cell_type": "code",
      "source": [
        "Text_data_dict_copy=Text_data_dict"
      ],
      "metadata": {
        "id": "MVYtLAEc3ypO"
      },
      "execution_count": 136,
      "outputs": []
    },
    {
      "cell_type": "code",
      "source": [
        "for k, v in Text_data_dict_copy.items():\n",
        "    print(k,int(recursive_len(v[0])/130))"
      ],
      "metadata": {
        "id": "scjR7BWIycyG",
        "colab": {
          "base_uri": "https://localhost:8080/"
        },
        "outputId": "1c39087b-4a27-416e-bd98-f98999dff8a6"
      },
      "execution_count": 137,
      "outputs": [
        {
          "output_type": "stream",
          "name": "stdout",
          "text": [
            "the jesuit missions 218\n",
            "the romance of rubber 72\n",
            "greenmantle 786\n",
            "the history of the peloponnesian war 1597\n",
            "alexander the great 427\n"
          ]
        }
      ]
    },
    {
      "cell_type": "code",
      "source": [
        "Text_data_dict_Final={}\n",
        "Text_data_dict_Final.clear()\n",
        "Text_data_dict_Final"
      ],
      "metadata": {
        "id": "piP_4moqq9SA",
        "colab": {
          "base_uri": "https://localhost:8080/"
        },
        "outputId": "4b341bc7-b744-49b0-813b-cb72acbe6d64"
      },
      "execution_count": 138,
      "outputs": [
        {
          "output_type": "execute_result",
          "data": {
            "text/plain": [
              "{}"
            ]
          },
          "metadata": {},
          "execution_count": 138
        }
      ]
    },
    {
      "cell_type": "code",
      "source": [
        "# Here we are changing text data to WORDS PER MINUTE by using 130 words per minute condition\n",
        "for a, b in Text_data_dict_copy.items():\n",
        "  X=int(recursive_len(b[0])/130)\n",
        "  Y=X\n",
        "  if X > 500:\n",
        "    Y=X-150\n",
        "  Text_data_dict_Final[a] = int(Y)\n",
        "  print(a,Y)"
      ],
      "metadata": {
        "id": "Rievi1A1pa5l",
        "colab": {
          "base_uri": "https://localhost:8080/"
        },
        "outputId": "50bd8445-9525-438a-c500-53033052a2c2"
      },
      "execution_count": 156,
      "outputs": [
        {
          "output_type": "stream",
          "name": "stdout",
          "text": [
            "the jesuit missions 218\n",
            "the romance of rubber 72\n",
            "greenmantle 636\n",
            "the history of the peloponnesian war 1447\n",
            "alexander the great 427\n"
          ]
        }
      ]
    },
    {
      "cell_type": "code",
      "source": [
        "Audio_data_dict"
      ],
      "metadata": {
        "id": "r79G3XaHpazI",
        "colab": {
          "base_uri": "https://localhost:8080/"
        },
        "outputId": "42ad06cb-c848-4d76-f75b-6f579dc81d2a"
      },
      "execution_count": 140,
      "outputs": [
        {
          "output_type": "execute_result",
          "data": {
            "text/plain": [
              "{'the jesuit missions': 189,\n",
              " 'the romance of rubber': 42,\n",
              " 'the history of the peloponnesian war': 1257,\n",
              " 'greenmantle': 549,\n",
              " 'alexander the great': 357}"
            ]
          },
          "metadata": {},
          "execution_count": 140
        }
      ]
    },
    {
      "cell_type": "markdown",
      "source": [
        "**1c. Find the length in spoken time for each text.**"
      ],
      "metadata": {
        "id": "YZmwFFJk8FVq"
      }
    },
    {
      "cell_type": "code",
      "source": [
        "import pandas as pd"
      ],
      "metadata": {
        "id": "6EKqJ8kCnyxo"
      },
      "execution_count": 141,
      "outputs": []
    },
    {
      "cell_type": "code",
      "source": [
        "dataframe_1=pd.DataFrame(Text_data_dict_Final.items(), columns=['Text.Name', 'Expected.Length'])\n",
        "dataframe_2=pd.DataFrame(Audio_data_dict.items(), columns=['Text.Name', 'Actual.Length'])"
      ],
      "metadata": {
        "id": "Zl3tMzasoOQ9"
      },
      "execution_count": 143,
      "outputs": []
    },
    {
      "cell_type": "code",
      "source": [
        "dataframe_1"
      ],
      "metadata": {
        "id": "rz8vrTrloOFO",
        "colab": {
          "base_uri": "https://localhost:8080/",
          "height": 204
        },
        "outputId": "16b5eb37-0c74-46f5-dc9a-fec4463e562b"
      },
      "execution_count": 144,
      "outputs": [
        {
          "output_type": "execute_result",
          "data": {
            "text/plain": [
              "                              Text.Name  Expected.Length\n",
              "0                   the jesuit missions              218\n",
              "1                 the romance of rubber               72\n",
              "2                           greenmantle              636\n",
              "3  the history of the peloponnesian war             1447\n",
              "4                   alexander the great              427"
            ],
            "text/html": [
              "\n",
              "  <div id=\"df-d5b2124b-0cb8-43e2-87b8-76a48ccb6a3f\">\n",
              "    <div class=\"colab-df-container\">\n",
              "      <div>\n",
              "<style scoped>\n",
              "    .dataframe tbody tr th:only-of-type {\n",
              "        vertical-align: middle;\n",
              "    }\n",
              "\n",
              "    .dataframe tbody tr th {\n",
              "        vertical-align: top;\n",
              "    }\n",
              "\n",
              "    .dataframe thead th {\n",
              "        text-align: right;\n",
              "    }\n",
              "</style>\n",
              "<table border=\"1\" class=\"dataframe\">\n",
              "  <thead>\n",
              "    <tr style=\"text-align: right;\">\n",
              "      <th></th>\n",
              "      <th>Text.Name</th>\n",
              "      <th>Expected.Length</th>\n",
              "    </tr>\n",
              "  </thead>\n",
              "  <tbody>\n",
              "    <tr>\n",
              "      <th>0</th>\n",
              "      <td>the jesuit missions</td>\n",
              "      <td>218</td>\n",
              "    </tr>\n",
              "    <tr>\n",
              "      <th>1</th>\n",
              "      <td>the romance of rubber</td>\n",
              "      <td>72</td>\n",
              "    </tr>\n",
              "    <tr>\n",
              "      <th>2</th>\n",
              "      <td>greenmantle</td>\n",
              "      <td>636</td>\n",
              "    </tr>\n",
              "    <tr>\n",
              "      <th>3</th>\n",
              "      <td>the history of the peloponnesian war</td>\n",
              "      <td>1447</td>\n",
              "    </tr>\n",
              "    <tr>\n",
              "      <th>4</th>\n",
              "      <td>alexander the great</td>\n",
              "      <td>427</td>\n",
              "    </tr>\n",
              "  </tbody>\n",
              "</table>\n",
              "</div>\n",
              "      <button class=\"colab-df-convert\" onclick=\"convertToInteractive('df-d5b2124b-0cb8-43e2-87b8-76a48ccb6a3f')\"\n",
              "              title=\"Convert this dataframe to an interactive table.\"\n",
              "              style=\"display:none;\">\n",
              "        \n",
              "  <svg xmlns=\"http://www.w3.org/2000/svg\" height=\"24px\"viewBox=\"0 0 24 24\"\n",
              "       width=\"24px\">\n",
              "    <path d=\"M0 0h24v24H0V0z\" fill=\"none\"/>\n",
              "    <path d=\"M18.56 5.44l.94 2.06.94-2.06 2.06-.94-2.06-.94-.94-2.06-.94 2.06-2.06.94zm-11 1L8.5 8.5l.94-2.06 2.06-.94-2.06-.94L8.5 2.5l-.94 2.06-2.06.94zm10 10l.94 2.06.94-2.06 2.06-.94-2.06-.94-.94-2.06-.94 2.06-2.06.94z\"/><path d=\"M17.41 7.96l-1.37-1.37c-.4-.4-.92-.59-1.43-.59-.52 0-1.04.2-1.43.59L10.3 9.45l-7.72 7.72c-.78.78-.78 2.05 0 2.83L4 21.41c.39.39.9.59 1.41.59.51 0 1.02-.2 1.41-.59l7.78-7.78 2.81-2.81c.8-.78.8-2.07 0-2.86zM5.41 20L4 18.59l7.72-7.72 1.47 1.35L5.41 20z\"/>\n",
              "  </svg>\n",
              "      </button>\n",
              "      \n",
              "  <style>\n",
              "    .colab-df-container {\n",
              "      display:flex;\n",
              "      flex-wrap:wrap;\n",
              "      gap: 12px;\n",
              "    }\n",
              "\n",
              "    .colab-df-convert {\n",
              "      background-color: #E8F0FE;\n",
              "      border: none;\n",
              "      border-radius: 50%;\n",
              "      cursor: pointer;\n",
              "      display: none;\n",
              "      fill: #1967D2;\n",
              "      height: 32px;\n",
              "      padding: 0 0 0 0;\n",
              "      width: 32px;\n",
              "    }\n",
              "\n",
              "    .colab-df-convert:hover {\n",
              "      background-color: #E2EBFA;\n",
              "      box-shadow: 0px 1px 2px rgba(60, 64, 67, 0.3), 0px 1px 3px 1px rgba(60, 64, 67, 0.15);\n",
              "      fill: #174EA6;\n",
              "    }\n",
              "\n",
              "    [theme=dark] .colab-df-convert {\n",
              "      background-color: #3B4455;\n",
              "      fill: #D2E3FC;\n",
              "    }\n",
              "\n",
              "    [theme=dark] .colab-df-convert:hover {\n",
              "      background-color: #434B5C;\n",
              "      box-shadow: 0px 1px 3px 1px rgba(0, 0, 0, 0.15);\n",
              "      filter: drop-shadow(0px 1px 2px rgba(0, 0, 0, 0.3));\n",
              "      fill: #FFFFFF;\n",
              "    }\n",
              "  </style>\n",
              "\n",
              "      <script>\n",
              "        const buttonEl =\n",
              "          document.querySelector('#df-d5b2124b-0cb8-43e2-87b8-76a48ccb6a3f button.colab-df-convert');\n",
              "        buttonEl.style.display =\n",
              "          google.colab.kernel.accessAllowed ? 'block' : 'none';\n",
              "\n",
              "        async function convertToInteractive(key) {\n",
              "          const element = document.querySelector('#df-d5b2124b-0cb8-43e2-87b8-76a48ccb6a3f');\n",
              "          const dataTable =\n",
              "            await google.colab.kernel.invokeFunction('convertToInteractive',\n",
              "                                                     [key], {});\n",
              "          if (!dataTable) return;\n",
              "\n",
              "          const docLinkHtml = 'Like what you see? Visit the ' +\n",
              "            '<a target=\"_blank\" href=https://colab.research.google.com/notebooks/data_table.ipynb>data table notebook</a>'\n",
              "            + ' to learn more about interactive tables.';\n",
              "          element.innerHTML = '';\n",
              "          dataTable['output_type'] = 'display_data';\n",
              "          await google.colab.output.renderOutput(dataTable, element);\n",
              "          const docLink = document.createElement('div');\n",
              "          docLink.innerHTML = docLinkHtml;\n",
              "          element.appendChild(docLink);\n",
              "        }\n",
              "      </script>\n",
              "    </div>\n",
              "  </div>\n",
              "  "
            ]
          },
          "metadata": {},
          "execution_count": 144
        }
      ]
    },
    {
      "cell_type": "code",
      "source": [
        "dataframe_2"
      ],
      "metadata": {
        "id": "AnosNHbcuUNB",
        "colab": {
          "base_uri": "https://localhost:8080/",
          "height": 204
        },
        "outputId": "4656c138-e19a-49c9-b0b6-d31c49dc10b2"
      },
      "execution_count": 145,
      "outputs": [
        {
          "output_type": "execute_result",
          "data": {
            "text/plain": [
              "                              Text.Name  Actual.Length\n",
              "0                   the jesuit missions            189\n",
              "1                 the romance of rubber             42\n",
              "2  the history of the peloponnesian war           1257\n",
              "3                           greenmantle            549\n",
              "4                   alexander the great            357"
            ],
            "text/html": [
              "\n",
              "  <div id=\"df-2e4cf0fe-9f9e-4f4d-aebd-05e0ada9146e\">\n",
              "    <div class=\"colab-df-container\">\n",
              "      <div>\n",
              "<style scoped>\n",
              "    .dataframe tbody tr th:only-of-type {\n",
              "        vertical-align: middle;\n",
              "    }\n",
              "\n",
              "    .dataframe tbody tr th {\n",
              "        vertical-align: top;\n",
              "    }\n",
              "\n",
              "    .dataframe thead th {\n",
              "        text-align: right;\n",
              "    }\n",
              "</style>\n",
              "<table border=\"1\" class=\"dataframe\">\n",
              "  <thead>\n",
              "    <tr style=\"text-align: right;\">\n",
              "      <th></th>\n",
              "      <th>Text.Name</th>\n",
              "      <th>Actual.Length</th>\n",
              "    </tr>\n",
              "  </thead>\n",
              "  <tbody>\n",
              "    <tr>\n",
              "      <th>0</th>\n",
              "      <td>the jesuit missions</td>\n",
              "      <td>189</td>\n",
              "    </tr>\n",
              "    <tr>\n",
              "      <th>1</th>\n",
              "      <td>the romance of rubber</td>\n",
              "      <td>42</td>\n",
              "    </tr>\n",
              "    <tr>\n",
              "      <th>2</th>\n",
              "      <td>the history of the peloponnesian war</td>\n",
              "      <td>1257</td>\n",
              "    </tr>\n",
              "    <tr>\n",
              "      <th>3</th>\n",
              "      <td>greenmantle</td>\n",
              "      <td>549</td>\n",
              "    </tr>\n",
              "    <tr>\n",
              "      <th>4</th>\n",
              "      <td>alexander the great</td>\n",
              "      <td>357</td>\n",
              "    </tr>\n",
              "  </tbody>\n",
              "</table>\n",
              "</div>\n",
              "      <button class=\"colab-df-convert\" onclick=\"convertToInteractive('df-2e4cf0fe-9f9e-4f4d-aebd-05e0ada9146e')\"\n",
              "              title=\"Convert this dataframe to an interactive table.\"\n",
              "              style=\"display:none;\">\n",
              "        \n",
              "  <svg xmlns=\"http://www.w3.org/2000/svg\" height=\"24px\"viewBox=\"0 0 24 24\"\n",
              "       width=\"24px\">\n",
              "    <path d=\"M0 0h24v24H0V0z\" fill=\"none\"/>\n",
              "    <path d=\"M18.56 5.44l.94 2.06.94-2.06 2.06-.94-2.06-.94-.94-2.06-.94 2.06-2.06.94zm-11 1L8.5 8.5l.94-2.06 2.06-.94-2.06-.94L8.5 2.5l-.94 2.06-2.06.94zm10 10l.94 2.06.94-2.06 2.06-.94-2.06-.94-.94-2.06-.94 2.06-2.06.94z\"/><path d=\"M17.41 7.96l-1.37-1.37c-.4-.4-.92-.59-1.43-.59-.52 0-1.04.2-1.43.59L10.3 9.45l-7.72 7.72c-.78.78-.78 2.05 0 2.83L4 21.41c.39.39.9.59 1.41.59.51 0 1.02-.2 1.41-.59l7.78-7.78 2.81-2.81c.8-.78.8-2.07 0-2.86zM5.41 20L4 18.59l7.72-7.72 1.47 1.35L5.41 20z\"/>\n",
              "  </svg>\n",
              "      </button>\n",
              "      \n",
              "  <style>\n",
              "    .colab-df-container {\n",
              "      display:flex;\n",
              "      flex-wrap:wrap;\n",
              "      gap: 12px;\n",
              "    }\n",
              "\n",
              "    .colab-df-convert {\n",
              "      background-color: #E8F0FE;\n",
              "      border: none;\n",
              "      border-radius: 50%;\n",
              "      cursor: pointer;\n",
              "      display: none;\n",
              "      fill: #1967D2;\n",
              "      height: 32px;\n",
              "      padding: 0 0 0 0;\n",
              "      width: 32px;\n",
              "    }\n",
              "\n",
              "    .colab-df-convert:hover {\n",
              "      background-color: #E2EBFA;\n",
              "      box-shadow: 0px 1px 2px rgba(60, 64, 67, 0.3), 0px 1px 3px 1px rgba(60, 64, 67, 0.15);\n",
              "      fill: #174EA6;\n",
              "    }\n",
              "\n",
              "    [theme=dark] .colab-df-convert {\n",
              "      background-color: #3B4455;\n",
              "      fill: #D2E3FC;\n",
              "    }\n",
              "\n",
              "    [theme=dark] .colab-df-convert:hover {\n",
              "      background-color: #434B5C;\n",
              "      box-shadow: 0px 1px 3px 1px rgba(0, 0, 0, 0.15);\n",
              "      filter: drop-shadow(0px 1px 2px rgba(0, 0, 0, 0.3));\n",
              "      fill: #FFFFFF;\n",
              "    }\n",
              "  </style>\n",
              "\n",
              "      <script>\n",
              "        const buttonEl =\n",
              "          document.querySelector('#df-2e4cf0fe-9f9e-4f4d-aebd-05e0ada9146e button.colab-df-convert');\n",
              "        buttonEl.style.display =\n",
              "          google.colab.kernel.accessAllowed ? 'block' : 'none';\n",
              "\n",
              "        async function convertToInteractive(key) {\n",
              "          const element = document.querySelector('#df-2e4cf0fe-9f9e-4f4d-aebd-05e0ada9146e');\n",
              "          const dataTable =\n",
              "            await google.colab.kernel.invokeFunction('convertToInteractive',\n",
              "                                                     [key], {});\n",
              "          if (!dataTable) return;\n",
              "\n",
              "          const docLinkHtml = 'Like what you see? Visit the ' +\n",
              "            '<a target=\"_blank\" href=https://colab.research.google.com/notebooks/data_table.ipynb>data table notebook</a>'\n",
              "            + ' to learn more about interactive tables.';\n",
              "          element.innerHTML = '';\n",
              "          dataTable['output_type'] = 'display_data';\n",
              "          await google.colab.output.renderOutput(dataTable, element);\n",
              "          const docLink = document.createElement('div');\n",
              "          docLink.innerHTML = docLinkHtml;\n",
              "          element.appendChild(docLink);\n",
              "        }\n",
              "      </script>\n",
              "    </div>\n",
              "  </div>\n",
              "  "
            ]
          },
          "metadata": {},
          "execution_count": 145
        }
      ]
    },
    {
      "cell_type": "code",
      "source": [
        "dataframe_3=pd.merge(dataframe_1, dataframe_2, on='Text.Name')"
      ],
      "metadata": {
        "id": "BFod8QUJuUJj"
      },
      "execution_count": 146,
      "outputs": []
    },
    {
      "cell_type": "code",
      "source": [
        "dataframe_3"
      ],
      "metadata": {
        "id": "2nSWL4qBuUGz",
        "colab": {
          "base_uri": "https://localhost:8080/",
          "height": 204
        },
        "outputId": "8b5d875e-a16f-40d0-a174-4ba923c273d1"
      },
      "execution_count": 147,
      "outputs": [
        {
          "output_type": "execute_result",
          "data": {
            "text/plain": [
              "                              Text.Name  Expected.Length  Actual.Length\n",
              "0                   the jesuit missions              218            189\n",
              "1                 the romance of rubber               72             42\n",
              "2                           greenmantle              636            549\n",
              "3  the history of the peloponnesian war             1447           1257\n",
              "4                   alexander the great              427            357"
            ],
            "text/html": [
              "\n",
              "  <div id=\"df-c022c044-0a3f-4236-8f54-a22f527e1d8d\">\n",
              "    <div class=\"colab-df-container\">\n",
              "      <div>\n",
              "<style scoped>\n",
              "    .dataframe tbody tr th:only-of-type {\n",
              "        vertical-align: middle;\n",
              "    }\n",
              "\n",
              "    .dataframe tbody tr th {\n",
              "        vertical-align: top;\n",
              "    }\n",
              "\n",
              "    .dataframe thead th {\n",
              "        text-align: right;\n",
              "    }\n",
              "</style>\n",
              "<table border=\"1\" class=\"dataframe\">\n",
              "  <thead>\n",
              "    <tr style=\"text-align: right;\">\n",
              "      <th></th>\n",
              "      <th>Text.Name</th>\n",
              "      <th>Expected.Length</th>\n",
              "      <th>Actual.Length</th>\n",
              "    </tr>\n",
              "  </thead>\n",
              "  <tbody>\n",
              "    <tr>\n",
              "      <th>0</th>\n",
              "      <td>the jesuit missions</td>\n",
              "      <td>218</td>\n",
              "      <td>189</td>\n",
              "    </tr>\n",
              "    <tr>\n",
              "      <th>1</th>\n",
              "      <td>the romance of rubber</td>\n",
              "      <td>72</td>\n",
              "      <td>42</td>\n",
              "    </tr>\n",
              "    <tr>\n",
              "      <th>2</th>\n",
              "      <td>greenmantle</td>\n",
              "      <td>636</td>\n",
              "      <td>549</td>\n",
              "    </tr>\n",
              "    <tr>\n",
              "      <th>3</th>\n",
              "      <td>the history of the peloponnesian war</td>\n",
              "      <td>1447</td>\n",
              "      <td>1257</td>\n",
              "    </tr>\n",
              "    <tr>\n",
              "      <th>4</th>\n",
              "      <td>alexander the great</td>\n",
              "      <td>427</td>\n",
              "      <td>357</td>\n",
              "    </tr>\n",
              "  </tbody>\n",
              "</table>\n",
              "</div>\n",
              "      <button class=\"colab-df-convert\" onclick=\"convertToInteractive('df-c022c044-0a3f-4236-8f54-a22f527e1d8d')\"\n",
              "              title=\"Convert this dataframe to an interactive table.\"\n",
              "              style=\"display:none;\">\n",
              "        \n",
              "  <svg xmlns=\"http://www.w3.org/2000/svg\" height=\"24px\"viewBox=\"0 0 24 24\"\n",
              "       width=\"24px\">\n",
              "    <path d=\"M0 0h24v24H0V0z\" fill=\"none\"/>\n",
              "    <path d=\"M18.56 5.44l.94 2.06.94-2.06 2.06-.94-2.06-.94-.94-2.06-.94 2.06-2.06.94zm-11 1L8.5 8.5l.94-2.06 2.06-.94-2.06-.94L8.5 2.5l-.94 2.06-2.06.94zm10 10l.94 2.06.94-2.06 2.06-.94-2.06-.94-.94-2.06-.94 2.06-2.06.94z\"/><path d=\"M17.41 7.96l-1.37-1.37c-.4-.4-.92-.59-1.43-.59-.52 0-1.04.2-1.43.59L10.3 9.45l-7.72 7.72c-.78.78-.78 2.05 0 2.83L4 21.41c.39.39.9.59 1.41.59.51 0 1.02-.2 1.41-.59l7.78-7.78 2.81-2.81c.8-.78.8-2.07 0-2.86zM5.41 20L4 18.59l7.72-7.72 1.47 1.35L5.41 20z\"/>\n",
              "  </svg>\n",
              "      </button>\n",
              "      \n",
              "  <style>\n",
              "    .colab-df-container {\n",
              "      display:flex;\n",
              "      flex-wrap:wrap;\n",
              "      gap: 12px;\n",
              "    }\n",
              "\n",
              "    .colab-df-convert {\n",
              "      background-color: #E8F0FE;\n",
              "      border: none;\n",
              "      border-radius: 50%;\n",
              "      cursor: pointer;\n",
              "      display: none;\n",
              "      fill: #1967D2;\n",
              "      height: 32px;\n",
              "      padding: 0 0 0 0;\n",
              "      width: 32px;\n",
              "    }\n",
              "\n",
              "    .colab-df-convert:hover {\n",
              "      background-color: #E2EBFA;\n",
              "      box-shadow: 0px 1px 2px rgba(60, 64, 67, 0.3), 0px 1px 3px 1px rgba(60, 64, 67, 0.15);\n",
              "      fill: #174EA6;\n",
              "    }\n",
              "\n",
              "    [theme=dark] .colab-df-convert {\n",
              "      background-color: #3B4455;\n",
              "      fill: #D2E3FC;\n",
              "    }\n",
              "\n",
              "    [theme=dark] .colab-df-convert:hover {\n",
              "      background-color: #434B5C;\n",
              "      box-shadow: 0px 1px 3px 1px rgba(0, 0, 0, 0.15);\n",
              "      filter: drop-shadow(0px 1px 2px rgba(0, 0, 0, 0.3));\n",
              "      fill: #FFFFFF;\n",
              "    }\n",
              "  </style>\n",
              "\n",
              "      <script>\n",
              "        const buttonEl =\n",
              "          document.querySelector('#df-c022c044-0a3f-4236-8f54-a22f527e1d8d button.colab-df-convert');\n",
              "        buttonEl.style.display =\n",
              "          google.colab.kernel.accessAllowed ? 'block' : 'none';\n",
              "\n",
              "        async function convertToInteractive(key) {\n",
              "          const element = document.querySelector('#df-c022c044-0a3f-4236-8f54-a22f527e1d8d');\n",
              "          const dataTable =\n",
              "            await google.colab.kernel.invokeFunction('convertToInteractive',\n",
              "                                                     [key], {});\n",
              "          if (!dataTable) return;\n",
              "\n",
              "          const docLinkHtml = 'Like what you see? Visit the ' +\n",
              "            '<a target=\"_blank\" href=https://colab.research.google.com/notebooks/data_table.ipynb>data table notebook</a>'\n",
              "            + ' to learn more about interactive tables.';\n",
              "          element.innerHTML = '';\n",
              "          dataTable['output_type'] = 'display_data';\n",
              "          await google.colab.output.renderOutput(dataTable, element);\n",
              "          const docLink = document.createElement('div');\n",
              "          docLink.innerHTML = docLinkHtml;\n",
              "          element.appendChild(docLink);\n",
              "        }\n",
              "      </script>\n",
              "    </div>\n",
              "  </div>\n",
              "  "
            ]
          },
          "metadata": {},
          "execution_count": 147
        }
      ]
    },
    {
      "cell_type": "code",
      "source": [
        "dataframe_3['Length.Difference'] = dataframe_3['Expected.Length']-dataframe_3['Actual.Length']"
      ],
      "metadata": {
        "id": "jiZIghamwd2F"
      },
      "execution_count": 148,
      "outputs": []
    },
    {
      "cell_type": "code",
      "source": [
        "dataframe_3"
      ],
      "metadata": {
        "id": "fz2tgom0w5KZ",
        "colab": {
          "base_uri": "https://localhost:8080/",
          "height": 204
        },
        "outputId": "f40b4591-44ef-45e2-8ccf-b19d490b6030"
      },
      "execution_count": 149,
      "outputs": [
        {
          "output_type": "execute_result",
          "data": {
            "text/plain": [
              "                              Text.Name  Expected.Length  Actual.Length  \\\n",
              "0                   the jesuit missions              218            189   \n",
              "1                 the romance of rubber               72             42   \n",
              "2                           greenmantle              636            549   \n",
              "3  the history of the peloponnesian war             1447           1257   \n",
              "4                   alexander the great              427            357   \n",
              "\n",
              "   Length.Difference  \n",
              "0                 29  \n",
              "1                 30  \n",
              "2                 87  \n",
              "3                190  \n",
              "4                 70  "
            ],
            "text/html": [
              "\n",
              "  <div id=\"df-1665ef93-0a5c-45aa-b1d5-6c07b35a8c5f\">\n",
              "    <div class=\"colab-df-container\">\n",
              "      <div>\n",
              "<style scoped>\n",
              "    .dataframe tbody tr th:only-of-type {\n",
              "        vertical-align: middle;\n",
              "    }\n",
              "\n",
              "    .dataframe tbody tr th {\n",
              "        vertical-align: top;\n",
              "    }\n",
              "\n",
              "    .dataframe thead th {\n",
              "        text-align: right;\n",
              "    }\n",
              "</style>\n",
              "<table border=\"1\" class=\"dataframe\">\n",
              "  <thead>\n",
              "    <tr style=\"text-align: right;\">\n",
              "      <th></th>\n",
              "      <th>Text.Name</th>\n",
              "      <th>Expected.Length</th>\n",
              "      <th>Actual.Length</th>\n",
              "      <th>Length.Difference</th>\n",
              "    </tr>\n",
              "  </thead>\n",
              "  <tbody>\n",
              "    <tr>\n",
              "      <th>0</th>\n",
              "      <td>the jesuit missions</td>\n",
              "      <td>218</td>\n",
              "      <td>189</td>\n",
              "      <td>29</td>\n",
              "    </tr>\n",
              "    <tr>\n",
              "      <th>1</th>\n",
              "      <td>the romance of rubber</td>\n",
              "      <td>72</td>\n",
              "      <td>42</td>\n",
              "      <td>30</td>\n",
              "    </tr>\n",
              "    <tr>\n",
              "      <th>2</th>\n",
              "      <td>greenmantle</td>\n",
              "      <td>636</td>\n",
              "      <td>549</td>\n",
              "      <td>87</td>\n",
              "    </tr>\n",
              "    <tr>\n",
              "      <th>3</th>\n",
              "      <td>the history of the peloponnesian war</td>\n",
              "      <td>1447</td>\n",
              "      <td>1257</td>\n",
              "      <td>190</td>\n",
              "    </tr>\n",
              "    <tr>\n",
              "      <th>4</th>\n",
              "      <td>alexander the great</td>\n",
              "      <td>427</td>\n",
              "      <td>357</td>\n",
              "      <td>70</td>\n",
              "    </tr>\n",
              "  </tbody>\n",
              "</table>\n",
              "</div>\n",
              "      <button class=\"colab-df-convert\" onclick=\"convertToInteractive('df-1665ef93-0a5c-45aa-b1d5-6c07b35a8c5f')\"\n",
              "              title=\"Convert this dataframe to an interactive table.\"\n",
              "              style=\"display:none;\">\n",
              "        \n",
              "  <svg xmlns=\"http://www.w3.org/2000/svg\" height=\"24px\"viewBox=\"0 0 24 24\"\n",
              "       width=\"24px\">\n",
              "    <path d=\"M0 0h24v24H0V0z\" fill=\"none\"/>\n",
              "    <path d=\"M18.56 5.44l.94 2.06.94-2.06 2.06-.94-2.06-.94-.94-2.06-.94 2.06-2.06.94zm-11 1L8.5 8.5l.94-2.06 2.06-.94-2.06-.94L8.5 2.5l-.94 2.06-2.06.94zm10 10l.94 2.06.94-2.06 2.06-.94-2.06-.94-.94-2.06-.94 2.06-2.06.94z\"/><path d=\"M17.41 7.96l-1.37-1.37c-.4-.4-.92-.59-1.43-.59-.52 0-1.04.2-1.43.59L10.3 9.45l-7.72 7.72c-.78.78-.78 2.05 0 2.83L4 21.41c.39.39.9.59 1.41.59.51 0 1.02-.2 1.41-.59l7.78-7.78 2.81-2.81c.8-.78.8-2.07 0-2.86zM5.41 20L4 18.59l7.72-7.72 1.47 1.35L5.41 20z\"/>\n",
              "  </svg>\n",
              "      </button>\n",
              "      \n",
              "  <style>\n",
              "    .colab-df-container {\n",
              "      display:flex;\n",
              "      flex-wrap:wrap;\n",
              "      gap: 12px;\n",
              "    }\n",
              "\n",
              "    .colab-df-convert {\n",
              "      background-color: #E8F0FE;\n",
              "      border: none;\n",
              "      border-radius: 50%;\n",
              "      cursor: pointer;\n",
              "      display: none;\n",
              "      fill: #1967D2;\n",
              "      height: 32px;\n",
              "      padding: 0 0 0 0;\n",
              "      width: 32px;\n",
              "    }\n",
              "\n",
              "    .colab-df-convert:hover {\n",
              "      background-color: #E2EBFA;\n",
              "      box-shadow: 0px 1px 2px rgba(60, 64, 67, 0.3), 0px 1px 3px 1px rgba(60, 64, 67, 0.15);\n",
              "      fill: #174EA6;\n",
              "    }\n",
              "\n",
              "    [theme=dark] .colab-df-convert {\n",
              "      background-color: #3B4455;\n",
              "      fill: #D2E3FC;\n",
              "    }\n",
              "\n",
              "    [theme=dark] .colab-df-convert:hover {\n",
              "      background-color: #434B5C;\n",
              "      box-shadow: 0px 1px 3px 1px rgba(0, 0, 0, 0.15);\n",
              "      filter: drop-shadow(0px 1px 2px rgba(0, 0, 0, 0.3));\n",
              "      fill: #FFFFFF;\n",
              "    }\n",
              "  </style>\n",
              "\n",
              "      <script>\n",
              "        const buttonEl =\n",
              "          document.querySelector('#df-1665ef93-0a5c-45aa-b1d5-6c07b35a8c5f button.colab-df-convert');\n",
              "        buttonEl.style.display =\n",
              "          google.colab.kernel.accessAllowed ? 'block' : 'none';\n",
              "\n",
              "        async function convertToInteractive(key) {\n",
              "          const element = document.querySelector('#df-1665ef93-0a5c-45aa-b1d5-6c07b35a8c5f');\n",
              "          const dataTable =\n",
              "            await google.colab.kernel.invokeFunction('convertToInteractive',\n",
              "                                                     [key], {});\n",
              "          if (!dataTable) return;\n",
              "\n",
              "          const docLinkHtml = 'Like what you see? Visit the ' +\n",
              "            '<a target=\"_blank\" href=https://colab.research.google.com/notebooks/data_table.ipynb>data table notebook</a>'\n",
              "            + ' to learn more about interactive tables.';\n",
              "          element.innerHTML = '';\n",
              "          dataTable['output_type'] = 'display_data';\n",
              "          await google.colab.output.renderOutput(dataTable, element);\n",
              "          const docLink = document.createElement('div');\n",
              "          docLink.innerHTML = docLinkHtml;\n",
              "          element.appendChild(docLink);\n",
              "        }\n",
              "      </script>\n",
              "    </div>\n",
              "  </div>\n",
              "  "
            ]
          },
          "metadata": {},
          "execution_count": 149
        }
      ]
    },
    {
      "cell_type": "markdown",
      "source": [
        "**1e. Plot the results**"
      ],
      "metadata": {
        "id": "c3W_fTHO8W0Q"
      }
    },
    {
      "cell_type": "code",
      "source": [
        "plot = dataframe_3.plot.bar(x = 'Text.Name', y = 'Length.Difference')"
      ],
      "metadata": {
        "id": "Drjh7WlVxbLf",
        "colab": {
          "base_uri": "https://localhost:8080/",
          "height": 453
        },
        "outputId": "fbfb1d3f-fe75-4a57-c116-e1e2beb5904f"
      },
      "execution_count": 151,
      "outputs": [
        {
          "output_type": "display_data",
          "data": {
            "text/plain": [
              "<Figure size 432x288 with 1 Axes>"
            ],
            "image/png": "[encoded data removed]"
          },
          "metadata": {
            "needs_background": "light"
          }
        }
      ]
    }
  ]
}